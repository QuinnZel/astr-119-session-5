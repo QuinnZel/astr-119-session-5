{
 "cells": [
  {
   "cell_type": "code",
   "execution_count": null,
   "id": "2294c8ad",
   "metadata": {
    "scrolled": true
   },
   "outputs": [],
   "source": [
    "import numpy as np"
   ]
  },
  {
   "cell_type": "code",
   "execution_count": null,
   "id": "ea7ce285",
   "metadata": {},
   "outputs": [],
   "source": [
    "n = 10                           #define an integer 10\n",
    "x = np.arange(n,dtype=float)    #define an array x=[0,9]"
   ]
  },
  {
   "cell_type": "code",
   "execution_count": null,
   "id": "f42df122",
   "metadata": {
    "scrolled": true
   },
   "outputs": [],
   "source": [
    "print(x)"
   ]
  },
  {
   "cell_type": "code",
   "execution_count": null,
   "id": "9f0e0829",
   "metadata": {},
   "outputs": [],
   "source": []
  }
 ],
 "metadata": {
  "kernelspec": {
   "display_name": "Python 3 (ipykernel)",
   "language": "python",
   "name": "python3"
  },
  "language_info": {
   "codemirror_mode": {
    "name": "ipython",
    "version": 3
   },
   "file_extension": ".py",
   "mimetype": "text/x-python",
   "name": "python",
   "nbconvert_exporter": "python",
   "pygments_lexer": "ipython3",
   "version": "3.10.0"
  }
 },
 "nbformat": 4,
 "nbformat_minor": 5
}
